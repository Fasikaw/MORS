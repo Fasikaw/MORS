{
 "cells": [
  {
   "cell_type": "code",
   "execution_count": 1,
   "metadata": {
    "collapsed": false
   },
   "outputs": [
    {
     "name": "stderr",
     "output_type": "stream",
     "text": [
      "/home/hydrogo/anaconda3/lib/python3.4/site-packages/matplotlib/__init__.py:872: UserWarning: axes.color_cycle is deprecated and replaced with axes.prop_cycle; please use the latter.\n",
      "  warnings.warn(self.msg_depr % (key, alt_key))\n"
     ]
    }
   ],
   "source": [
    "import pandas as pd\n",
    "import numpy as np\n",
    "import xarray as xr\n",
    "\n",
    "import matplotlib.pyplot as plt\n",
    "import seaborn\n",
    "\n",
    "%matplotlib inline"
   ]
  },
  {
   "cell_type": "code",
   "execution_count": 2,
   "metadata": {
    "collapsed": true
   },
   "outputs": [],
   "source": [
    "def schema_to_lists(path):\n",
    "    schema = pd.read_csv(path, usecols=[0, 1])\n",
    "    lat = schema.Y.values\n",
    "    lon = schema.X.values\n",
    "    return lat, lon"
   ]
  },
  {
   "cell_type": "code",
   "execution_count": 3,
   "metadata": {
    "collapsed": true
   },
   "outputs": [],
   "source": [
    "def data_reading_cutting(path, lat, lon):\n",
    "    data = xr.open_dataset(path, decode_times=False)\n",
    "    data['time'] = pd.date_range('1979-01-01', '2014-12-31', name='time')\n",
    "    return data.sel_points(lat = lat, lon = lon)"
   ]
  },
  {
   "cell_type": "code",
   "execution_count": 4,
   "metadata": {
    "collapsed": true
   },
   "outputs": [],
   "source": [
    "def xdata_to_pdata(xdata, var_name):\n",
    "    pdata = pd.DataFrame(index=pd.date_range('1979-01-01', '2014-12-31', name='Date'))\n",
    "    for i in range(xdata.dims['points']):\n",
    "        pdata[var_name+'_'+str(i)] = xdata[var_name][i].data\n",
    "    return pdata"
   ]
  },
  {
   "cell_type": "code",
   "execution_count": 41,
   "metadata": {
    "collapsed": true
   },
   "outputs": [],
   "source": [
    "wfdei_files = ['../LWdown_daily_WFDEI/LWdown_daily_WFDEI_197901_201412.nc',\n",
    "               '../PSurf_daily_WFDEI/PSurf_daily_WFDEI_197901_201412.nc',\n",
    "               '../Qair_daily_WFDEI/Qair_daily_WFDEI_197901_201412.nc',\n",
    "               '../Rainf_daily_WFDEI_CRU/Rainf_CRU_daily_WFDEI_197901_201412.nc',\n",
    "               '../Snowf_daily_WFDEI_CRU/Snowf_CRU_daily_WFDEI_197901_201412.nc',\n",
    "               '../SWdown_daily_WFDEI/SWdown_daily_WFDEI_197901_201412.nc',\n",
    "               '../Tair_daily_WFDEI/Tair_daily_WFDEI_197901_201412.nc',\n",
    "               '../Wind_daily_WFDEI/Wind_daily_WFDEI_197901_201412.nc'\n",
    "              ]\n",
    "\n",
    "wfdei_vars = ['LWdown', \n",
    "              'PSurf', \n",
    "              'Qair', \n",
    "              'Rainf', \n",
    "              'Snowf', \n",
    "              'SWdown', \n",
    "              'Tair', \n",
    "              'Wind'\n",
    "             ]\n",
    "\n",
    "path_to_schema = 'drt_05_taz.csv'\n",
    "\n",
    "filename_for_result = 'wfdei_for_taz.csv'\n",
    "\n",
    "stack = []"
   ]
  },
  {
   "cell_type": "code",
   "execution_count": 42,
   "metadata": {
    "collapsed": false,
    "scrolled": true
   },
   "outputs": [],
   "source": [
    "for wfdei_file, wfdei_var in zip(wfdei_files, wfdei_vars):\n",
    "        \n",
    "    # 1. retrieve our schema coordinates\n",
    "    lat, lon = schema_to_lists(path_to_schema)\n",
    "    \n",
    "    # 2. cut or data along the schema coordinates provided\n",
    "    chunk = data_reading_cutting(wfdei_file, lat, lon)\n",
    "    \n",
    "    # 3. retrive pandas dataframe of needed variable\n",
    "    #    each column - array of variable in one wfdei cell grid\n",
    "    pdata = xdata_to_pdata(chunk, wfdei_var)\n",
    "    \n",
    "    # 4. append pdata of each var to _stack_ for further concatenation\n",
    "    stack.append(pdata)\n",
    "\n",
    "# 5. concatenate parts of our data in _stack_ with one pandas dataframe\n",
    "result = pd.concat(stack, axis=1)\n",
    "\n",
    "# 6. save results to .csv file\n",
    "result.to_csv(filename_for_result)"
   ]
  },
  {
   "cell_type": "code",
   "execution_count": null,
   "metadata": {
    "collapsed": true
   },
   "outputs": [],
   "source": []
  },
  {
   "cell_type": "code",
   "execution_count": 27,
   "metadata": {
    "collapsed": false
   },
   "outputs": [
    {
     "data": {
      "text/plain": [
       "<matplotlib.collections.QuadMesh at 0x7f77dd0bd9e8>"
      ]
     },
     "execution_count": 27,
     "metadata": {},
     "output_type": "execute_result"
    },
    {
     "data": {
      "image/png": "[encoded data removed]",
      "text/plain": [
       "<matplotlib.figure.Figure at 0x7f77dd103160>"
      ]
     },
     "metadata": {},
     "output_type": "display_data"
    }
   ],
   "source": [
    "dt = xr.open_dataset('../LWdown_daily_WFDEI/LWdown_daily_WFDEI_197901_201412.nc', decode_times=False)\n",
    "dt['time'] = pd.date_range('1979-01-01', '2014-12-31', name='time')\n",
    "data2d = dt.LWdown.sel(lon=slice(70, 75), lat=slice(63, 66), time='1979-01-01')\n",
    "data2d.plot()"
   ]
  }
 ],
 "metadata": {
  "kernelspec": {
   "display_name": "Python 3",
   "language": "python",
   "name": "python3"
  },
  "language_info": {
   "codemirror_mode": {
    "name": "ipython",
    "version": 3
   },
   "file_extension": ".py",
   "mimetype": "text/x-python",
   "name": "python",
   "nbconvert_exporter": "python",
   "pygments_lexer": "ipython3",
   "version": "3.4.4"
  }
 },
 "nbformat": 4,
 "nbformat_minor": 0
}
