{
 "cells": [
  {
   "cell_type": "markdown",
   "metadata": {},
   "source": [
    "# Try to write tzar-function for basin coordinates transfer to modeling-ready dataframe"
   ]
  },
  {
   "cell_type": "code",
   "execution_count": 1,
   "metadata": {
    "collapsed": true
   },
   "outputs": [],
   "source": [
    "import pandas as pd\n",
    "import numpy as np\n",
    "import xarray as xr\n",
    "\n",
    "import matplotlib.pyplot as plt\n",
    "\n",
    "%matplotlib inline"
   ]
  },
  {
   "cell_type": "code",
   "execution_count": 2,
   "metadata": {
    "collapsed": true
   },
   "outputs": [],
   "source": [
    "# source: my code from sandbox/WFDEI_to_dataframe.ipynb\n",
    "\n",
    "# convert our basin scheme to simple lists \n",
    "def schema_to_lists(path):\n",
    "    schema = pd.read_csv(path, usecols=[0, 1])\n",
    "    lat = schema.Y.values\n",
    "    lon = schema.X.values\n",
    "    return lat, lon\n",
    "\n",
    "# read our WFDEI dataset and cutting it through our scheme coordinates\n",
    "# xarray dataframe as output\n",
    "def data_reading_cutting(path, lat, lon):\n",
    "    data = xr.open_dataset(path, decode_times=False)\n",
    "    data['time'] = pd.date_range('1979-01-01', '2014-12-31', name='time')\n",
    "    return data.sel_points(lat = lat, lon = lon)\n",
    "\n",
    "# convert our xarray dataframe to simple pandas dataframe\n",
    "def xdata_to_pdata(xdata, var_name):\n",
    "    pdata = pd.DataFrame(index=pd.date_range('1979-01-01', '2014-12-31', name='Date'))\n",
    "    for i in range(xdata.dims['points']):\n",
    "        pdata[var_name+'_'+str(i)] = xdata[var_name][i].data\n",
    "    return pdata"
   ]
  },
  {
   "cell_type": "code",
   "execution_count": 4,
   "metadata": {
    "collapsed": false
   },
   "outputs": [],
   "source": [
    "# source: my code from sandbox/WFDEI_to_dataframe.ipynb\n",
    "\n",
    "# define files and variables been used\n",
    "\n",
    "wfdei_files = ['../data/Tair_daily_WFDEI_197901_201412_NPT.nc',\n",
    "               '../data/Rainf_CRU_daily_WFDEI_197901_201412_NPT.nc',\n",
    "               '../data/Snowf_CRU_daily_WFDEI_197901_201412_NPT.nc'\n",
    "              ]\n",
    "\n",
    "wfdei_vars = ['Tair', \n",
    "              'Rainf', \n",
    "              'Snowf'\n",
    "             ]"
   ]
  },
  {
   "cell_type": "code",
   "execution_count": 5,
   "metadata": {
    "collapsed": true
   },
   "outputs": [],
   "source": [
    "def dataframe_construction(path_to_scheme):\n",
    "    # Part 1 - wrap all data from .nc files\n",
    "    # to one pandas dataframe constructing\n",
    "    # in spatially-distributed way:\n",
    "    # we have (variables)*(grid cells in scheme)\n",
    "    # columns in our dataframe\n",
    "    \n",
    "    # initialize intermediate results \n",
    "    # holding list\n",
    "    stack = []\n",
    "    \n",
    "    # run the cycle through our .nc data\n",
    "    for wfdei_file, wfdei_var in zip(wfdei_files, wfdei_vars):\n",
    "        \n",
    "        # 1. retrieve our scheme coordinates\n",
    "        lat, lon = schema_to_lists(path_to_scheme)\n",
    "\n",
    "        # 2. cut or data along the scheme coordinates provided\n",
    "        chunk = data_reading_cutting(wfdei_file, lat, lon)\n",
    "\n",
    "        # 3. retrive pandas dataframe of needed variable\n",
    "        #    each column - array of variable in one wfdei cell grid\n",
    "        pdata = xdata_to_pdata(chunk, wfdei_var)\n",
    "\n",
    "        # 4. append pdata of each var to _stack_ for further concatenation\n",
    "        stack.append(pdata)\n",
    "\n",
    "    # 5. concatenate parts of our data in _stack_ with one pandas dataframe\n",
    "    result = pd.concat(stack, axis=1)\n",
    "    \n",
    "    # Part 2 - convert derived in part 1 pandas dataframe\n",
    "    # to spatially(weighted)-averaged lumped pandas dataframe\n",
    "    # ready-made for using with conceptual models\n",
    "    \n",
    "    # 1. read in basin shematization file\n",
    "    coord = pd.read_csv(path_to_scheme, usecols=[0, 1])\n",
    "    # 2. rename columns\n",
    "    coord.columns = ['lon','lat']\n",
    "    # 3. calculate weights of each cell for further weighted averaging\n",
    "    coord['weights'] = (np.cos((coord['lat'] + 0.25)*np.pi/180) + np.cos((coord['lat'] - 0.25)*np.pi/180))\n",
    "    coord['weights'] = coord['weights']/np.sum(coord['weights'])\n",
    "    # 4. cut necessary variables (Rainf, Snowf, Tair)\n",
    "    rain = result[['Rainf_'+str(point) for point in coord.index]]\n",
    "    snow = result[['Snowf_'+str(point) for point in coord.index]]\n",
    "    temp = result[['Tair_'+str(point) for point in coord.index]]\n",
    "    # 5. convertion stage\n",
    "    # 5.1. convert precipitation (average rate mm/sec for 24 hours) to (sum of mm for whole day) \n",
    "    # just multiply all values by 60sec*60min*24h\n",
    "    rain = rain*(60*60*24)\n",
    "    snow = snow*(60*60*24)\n",
    "    #convert temperature from Kelvins to Celsius\n",
    "    temp = temp-273.15\n",
    "    #summarize rain and snow to one precipitation parameter\n",
    "    prec = rain.add(snow.values)\n",
    "    # 6. final stage\n",
    "    # 6.1 weighted averaging (sum of weight_i*value_i)\n",
    "    prec_avrg = prec.mul(coord['weights'].values, axis=1).sum(axis=1)\n",
    "    temp_avrg = temp.mul(coord['weights'].values, axis=1).sum(axis=1)\n",
    "    # 6.2 wrap-up all in one ready-made pandas dataframe\n",
    "    lumped_data = pd.DataFrame({'Temp': temp_avrg, 'Prec': prec_avrg}, index=temp_avrg.index)\n",
    "    \n",
    "    # Part 3\n",
    "    # calculate daily evaporation from long-term monthly values for this domain\n",
    "    evap_monthly = np.loadtxt('../data/Evap_monthly_constants.txt')\n",
    "    lumped_data['Evap'] = lumped_data.index.map(lambda x: evap_monthly[x.month-1])\n",
    "    \n",
    "    return lumped_data"
   ]
  },
  {
   "cell_type": "code",
   "execution_count": 7,
   "metadata": {
    "collapsed": false
   },
   "outputs": [],
   "source": [
    "pur = dataframe_construction('../data/pur_scheme.csv')"
   ]
  },
  {
   "cell_type": "code",
   "execution_count": 8,
   "metadata": {
    "collapsed": true
   },
   "outputs": [],
   "source": [
    "pur_previous = pd.read_csv('../../../Hydro/Pur_Taz_Nadym/s-HBV/data/pur_avrg.csv', index_col=0, parse_dates=True)"
   ]
  },
  {
   "cell_type": "code",
   "execution_count": 9,
   "metadata": {
    "collapsed": false
   },
   "outputs": [
    {
     "data": {
      "text/plain": [
       "<matplotlib.collections.PathCollection at 0x7f46e7cb5908>"
      ]
     },
     "execution_count": 9,
     "metadata": {},
     "output_type": "execute_result"
    },
    {
     "data": {
      "image/png": "[encoded data removed]",
      "text/plain": [
       "<matplotlib.figure.Figure at 0x7f46e84767b8>"
      ]
     },
     "metadata": {},
     "output_type": "display_data"
    }
   ],
   "source": [
    "plt.scatter(pur.Temp, pur_previous.Temp)"
   ]
  },
  {
   "cell_type": "code",
   "execution_count": 10,
   "metadata": {
    "collapsed": false
   },
   "outputs": [
    {
     "data": {
      "text/plain": [
       "<matplotlib.collections.PathCollection at 0x7f46e8409780>"
      ]
     },
     "execution_count": 10,
     "metadata": {},
     "output_type": "execute_result"
    },
    {
     "data": {
      "image/png": "[encoded data removed]",
      "text/plain": [
       "<matplotlib.figure.Figure at 0x7f46e83a6240>"
      ]
     },
     "metadata": {},
     "output_type": "display_data"
    }
   ],
   "source": [
    "plt.scatter(pur.Prec, pur_previous.Prec)"
   ]
  },
  {
   "cell_type": "code",
   "execution_count": 1,
   "metadata": {
    "collapsed": true
   },
   "outputs": [],
   "source": [
    "import numpy as np\n",
    "import pandas as pd\n",
    "import matplotlib.pyplot as plt\n",
    "%matplotlib inline\n",
    "import sys\n",
    "sys.path.append('../tools/')\n",
    "import wfdei_to_lumped_dataframe"
   ]
  },
  {
   "cell_type": "code",
   "execution_count": 2,
   "metadata": {
    "collapsed": true
   },
   "outputs": [],
   "source": [
    "pur = wfdei_to_lumped_dataframe.dataframe_construction('../data/pur_scheme.csv')\n",
    "pur_previous = pd.read_csv('../../../Hydro/Pur_Taz_Nadym/s-HBV/data/pur_avrg.csv', index_col=0, parse_dates=True)"
   ]
  },
  {
   "cell_type": "code",
   "execution_count": 6,
   "metadata": {
    "collapsed": false
   },
   "outputs": [
    {
     "name": "stdout",
     "output_type": "stream",
     "text": [
      "My domain constants : [0.6, 1.9, 2.4, 1.8, 1.4, 1.3, 1.0, 0.8, 0.6, 0.4, 0.2, 0.3]\n",
      "Averaged from daily : [ 0.6  1.9  2.4  1.8  1.4  1.3  1.   0.8  0.6  0.4  0.2  0.3]\n"
     ]
    }
   ],
   "source": [
    "print('My domain constants :', [0.6,1.9,2.4,1.8,1.4,1.3,1.0,0.8,0.6,0.4,0.2,0.3])\n",
    "print('Averaged from daily :', np.array([pur.ix[pur.index.month == x, 'Evap'].mean() for x in range(1, 13)]))"
   ]
  },
  {
   "cell_type": "code",
   "execution_count": null,
   "metadata": {
    "collapsed": true
   },
   "outputs": [],
   "source": []
  }
 ],
 "metadata": {
  "kernelspec": {
   "display_name": "Python 3",
   "language": "python",
   "name": "python3"
  },
  "language_info": {
   "codemirror_mode": {
    "name": "ipython",
    "version": 3
   },
   "file_extension": ".py",
   "mimetype": "text/x-python",
   "name": "python",
   "nbconvert_exporter": "python",
   "pygments_lexer": "ipython3",
   "version": "3.5.1"
  }
 },
 "nbformat": 4,
 "nbformat_minor": 0
}
