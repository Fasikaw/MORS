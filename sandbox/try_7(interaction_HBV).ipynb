{
 "cells": [
  {
   "cell_type": "markdown",
   "metadata": {},
   "source": [
    "# try to check our modules and models and construct first pipeline"
   ]
  },
  {
   "cell_type": "code",
   "execution_count": 1,
   "metadata": {
    "collapsed": false
   },
   "outputs": [],
   "source": [
    "import sys\n",
    "sys.path.append('../models/')\n",
    "\n",
    "from ipywidgets import interact\n",
    "from hbv import interaction\n",
    "%matplotlib inline"
   ]
  },
  {
   "cell_type": "code",
   "execution_count": 2,
   "metadata": {
    "collapsed": true
   },
   "outputs": [],
   "source": [
    "river_name = 'Pur River'\n",
    "path_to_scheme = '../data/pur_scheme.csv'\n",
    "path_to_observations = '../data/pur_observations.csv'"
   ]
  },
  {
   "cell_type": "code",
   "execution_count": 3,
   "metadata": {
    "collapsed": false
   },
   "outputs": [
    {
     "data": {
      "text/plain": [
       "<function hbv.interaction>"
      ]
     },
     "execution_count": 3,
     "metadata": {},
     "output_type": "execute_result"
    }
   ],
   "source": [
    "# interact with new PE module\n",
    "interact(interaction, \n",
    "         river_name=river_name, \n",
    "         path_to_scheme=path_to_scheme, \n",
    "         path_to_observations=path_to_observations,\n",
    "         parBETA=(1, 6, 1), parCET=(0, 0.3, 0.1), parFC=(50, 500, 50), parK0=(0.01, 0.4, 0.05), \n",
    "         parK1=(0.01, 0.4, 0.05), parK2=(0.001, 0.15, 0.005), parLP=(0.3, 1, 0.1), parMAXBAS=(1, 7, 1), \n",
    "         parPERC=(0, 3, 0.2), parUZL=(0, 500, 50), parPCORR=(0.5, 2, 0.1), parTT=(-1.5, 2.5, 0.1), \n",
    "         parCFMAX=(1, 10, 1), parSFCF=(0.4, 1, 0.1), parCFR=(0, 0.1, 0.01), parCWH=(0, 0.2, 0.01), \n",
    "         __manual=True)"
   ]
  },
  {
   "cell_type": "code",
   "execution_count": null,
   "metadata": {
    "collapsed": true
   },
   "outputs": [],
   "source": []
  }
 ],
 "metadata": {
  "kernelspec": {
   "display_name": "Python 3",
   "language": "python",
   "name": "python3"
  },
  "language_info": {
   "codemirror_mode": {
    "name": "ipython",
    "version": 3
   },
   "file_extension": ".py",
   "mimetype": "text/x-python",
   "name": "python",
   "nbconvert_exporter": "python",
   "pygments_lexer": "ipython3",
   "version": "3.5.1"
  }
 },
 "nbformat": 4,
 "nbformat_minor": 0
}
