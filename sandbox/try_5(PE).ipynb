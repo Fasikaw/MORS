{
 "cells": [
  {
   "cell_type": "code",
   "execution_count": 1,
   "metadata": {
    "collapsed": true
   },
   "outputs": [],
   "source": [
    "import pandas as pd\n",
    "import numpy as np\n",
    "import matplotlib.pyplot as plt\n",
    "\n",
    "%matplotlib inline"
   ]
  },
  {
   "cell_type": "code",
   "execution_count": 2,
   "metadata": {
    "collapsed": true
   },
   "outputs": [],
   "source": [
    "path_to_scheme = '../data/pur_scheme.csv'"
   ]
  },
  {
   "cell_type": "code",
   "execution_count": 79,
   "metadata": {
    "collapsed": false
   },
   "outputs": [],
   "source": [
    "def PET(data, path_to_scheme):\n",
    "    # Reference: http://www.fao.org/docrep/x0490e/x0490e07.htm\n",
    "    # use with caution for latitudes out of range 0-67 degrees\n",
    "    \n",
    "    # Part 1. Avarage latitude calculation\n",
    "    # read watershed scheme\n",
    "    schema = pd.read_csv(path_to_scheme, usecols=[0, 1])\n",
    "    # calculate mean watershed latitude \n",
    "    # and convert it from degrees to radians\n",
    "    lat = np.deg2rad(schema.Y.values.mean())\n",
    "    \n",
    "    # Part 2. Extraterrrestrial radiation calculation\n",
    "    # set solar constant (in W m-2)\n",
    "    Rsc = 1367 \n",
    "    # calculate day of the year array\n",
    "    doy = np.array([i for i in range(1, 367)])\n",
    "    # calculate solar declination dt (in radians)\n",
    "    dt = 0.409 * np.sin(2 * np.pi / 365 * doy - 1.39)\n",
    "    # calculate sunset hour angle (in radians)\n",
    "    ws = np.arccos(-np.tan(lat) * np.tan(dt))\n",
    "    # Calculate sunshine duration N (in hours)\n",
    "    N = 24 / np.pi * ws\n",
    "    # Calculate day angle j (in radians)\n",
    "    j = 2 * np.pi / 365.25 * doy\n",
    "    # Calculate relative distance to sun\n",
    "    dr = 1.0 + 0.03344 * np.cos(j - 0.048869)\n",
    "    # Calculate extraterrestrial radiation (J m-2 day-1)\n",
    "    Re = Rsc * 86400 / np.pi * dr * (ws * np.sin(lat) * np.sin(dt)\\\n",
    "           + np.sin(ws) * np.cos(lat) * np.cos(dt))\n",
    "    # convert from J m-2 day-1 to MJ m-2 day-1\n",
    "    Re = Re/10**6\n",
    "    \n",
    "    # Part 3. Avearge daily temperatures calculation derived from long-term observations\n",
    "    Ta = np.array([data.ix[data.index.dayofyear == x, 'Temp'].mean() for x in range(1, 367)])\n",
    "    \n",
    "    # Part 4. PET main equation by (Oudin et al., 2005)\n",
    "    # lambda (latent heat flux const) = 2.45 MJ kg-1\n",
    "    # ro (density of water const) = 1000 kg m-3\n",
    "    # PE im m day -1 should be converted to mm/day (* 10**3)\n",
    "    # PE = ( Re / (2.45*1000) ) * ( (Ta+5) /100 ) * 10**3     \n",
    "    # threshhold condition\n",
    "    # if Ta+5>0 - use Oudin formula, else set to zero\n",
    "    PE = np.where(Ta+5 > 0, ( Re / (2.45*1000) ) * ( (Ta+5) /100 )*10**3, 0)\n",
    "    \n",
    "    return PE"
   ]
  },
  {
   "cell_type": "code",
   "execution_count": 80,
   "metadata": {
    "collapsed": false
   },
   "outputs": [],
   "source": [
    "data = pd.read_csv('../data/hbv_s_data.csv', index_col=0, parse_dates=True)"
   ]
  },
  {
   "cell_type": "code",
   "execution_count": 81,
   "metadata": {
    "collapsed": false
   },
   "outputs": [],
   "source": [
    "a = PET(data, '../data/pur_scheme.csv')"
   ]
  },
  {
   "cell_type": "code",
   "execution_count": 82,
   "metadata": {
    "collapsed": false
   },
   "outputs": [
    {
     "data": {
      "text/plain": [
       "[<matplotlib.lines.Line2D at 0x7f4642a5a588>]"
      ]
     },
     "execution_count": 82,
     "metadata": {},
     "output_type": "execute_result"
    },
    {
     "data": {
      "image/png": "[encoded data removed]",
      "text/plain": [
       "<matplotlib.figure.Figure at 0x7f4642d237b8>"
      ]
     },
     "metadata": {},
     "output_type": "display_data"
    }
   ],
   "source": [
    "plt.plot(range(len(a)), a)"
   ]
  },
  {
   "cell_type": "code",
   "execution_count": null,
   "metadata": {
    "collapsed": true
   },
   "outputs": [],
   "source": []
  }
 ],
 "metadata": {
  "kernelspec": {
   "display_name": "Python 3",
   "language": "python",
   "name": "python3"
  },
  "language_info": {
   "codemirror_mode": {
    "name": "ipython",
    "version": 3
   },
   "file_extension": ".py",
   "mimetype": "text/x-python",
   "name": "python",
   "nbconvert_exporter": "python",
   "pygments_lexer": "ipython3",
   "version": "3.5.1"
  }
 },
 "nbformat": 4,
 "nbformat_minor": 0
}
