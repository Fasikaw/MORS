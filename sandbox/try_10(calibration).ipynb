{
 "cells": [
  {
   "cell_type": "code",
   "execution_count": 1,
   "metadata": {
    "collapsed": false
   },
   "outputs": [],
   "source": [
    "import numpy as np\n",
    "import pandas as pd\n",
    "import scipy.optimize as so\n",
    "import sys\n",
    "sys.path.append('../models')\n",
    "\n",
    "\n",
    "import matplotlib.pyplot as plt\n",
    "%matplotlib inline"
   ]
  },
  {
   "cell_type": "code",
   "execution_count": 2,
   "metadata": {
    "collapsed": true
   },
   "outputs": [],
   "source": [
    "data = pd.read_csv('../data/hbv_s_data.csv', index_col=0, parse_dates=True)"
   ]
  },
  {
   "cell_type": "code",
   "execution_count": 3,
   "metadata": {
    "collapsed": false
   },
   "outputs": [],
   "source": [
    "def calibrate(data, simulation_routine='HBV-s', objective_function='NS', method='DE'):\n",
    "    '''\n",
    "    Inputs:\n",
    "    1. data - meteorological forcing data packed in pandas dataframe:\n",
    "        'Temp' - daily temperature (Celsium degrees)\n",
    "        'Prec' - daily precipitation (mm/day)\n",
    "        'Evap' - daily potential evapotranspiration (mm/day)\n",
    "    2.  'Qobs' - daily river runoff (mm\\day)\n",
    "    3. simulation routines (default='HBV')\n",
    "    'HBV'\n",
    "    'HBV-s'\n",
    "    'GR4J'\n",
    "    'GR4J-Cema-Neige'\n",
    "    'SIMHYD'\n",
    "    'SIMHYD-Cema-Neige'\n",
    "    4. objective function for optimization:\n",
    "        'NS'   - Nash-Sutcliffe model efficiency criterion\n",
    "    5. optimization method:\n",
    "        'DE' - differential evolution (global optimization routine)\n",
    "    Output:\n",
    "        list of optimal model parameters\n",
    "    '''\n",
    "    ### data preparation\n",
    "    Qobs = data['Qobs']\n",
    "    Qm = Qobs.mean()\n",
    "    \n",
    "    ### initialize the model used for parameters optimization\n",
    "    if simulation_routine == 'HBV':\n",
    "        import hbv\n",
    "        model = hbv.simulation\n",
    "        bnds = hbv.bounds()\n",
    "        \n",
    "    elif simulation_routine == 'HBV-s':\n",
    "        import hbv_s\n",
    "        model = hbv_s.simulation\n",
    "        bnds = hbv_s.bounds()\n",
    "        \n",
    "    elif simulation_routine == 'GR4J':\n",
    "        import gr4j\n",
    "        model = gr4j.simulation\n",
    "        bnds = gr4j.bounds()\n",
    "        \n",
    "    elif simulation_routine == 'GR4J-Cema-Neige':\n",
    "        import gr4j_cemaneige\n",
    "        model = gr4j_cemaneige.simulation\n",
    "        bnds = gr4j_cemaneige.bounds()\n",
    "        \n",
    "    elif simulation_routine == 'SIMHYD':\n",
    "        import simhyd\n",
    "        model = simhyd.simulation\n",
    "        bnds = simhyd.bounds()\n",
    "        \n",
    "    elif simulation_routine == 'SIMHYD-Cema-Neige':\n",
    "        import simhyd_cemaneige\n",
    "        model = simhyd_cemaneige.simulation\n",
    "        bnds = simhyd_cemaneige.bounds()\n",
    "        \n",
    "    else:\n",
    "        print(\"Incorrect simulation routine name, try one of:\\\n",
    "        'HBV', 'HBV-s', 'GR4J', 'GR4J-Cema-Neige', 'SIMHYD', 'SIMHYD-Cema-Neige' \")\n",
    "    \n",
    "    ### initialize objective function for optimization\n",
    "    def obj_func_calc(params):\n",
    "            # simulate hydrograph\n",
    "            Qsim = model(data, params)\n",
    "            # calculate objective function value\n",
    "            return ((Qobs-Qsim)**2).sum()/((Qobs-Qm)**2).sum()\n",
    "    \n",
    "    if objective_function == 'NS':\n",
    "        pass\n",
    "    else:\n",
    "        print(\"Incorrect objective function name, only 'NS' is available \")\n",
    "    \n",
    "    ### initialize optimization algorithm\n",
    "    if method == 'DE':\n",
    "        optimizer = so.differential_evolution\n",
    "    else:\n",
    "        print(\"Incorrect optimization method name, only 'DE' is available \")\n",
    "    \n",
    "    result = optimizer(obj_func_calc, bnds, maxiter=5, polish=False, disp=True)\n",
    "    \n",
    "    opt_param = result.x   \n",
    "    \n",
    "    return opt_param"
   ]
  },
  {
   "cell_type": "code",
   "execution_count": 4,
   "metadata": {
    "collapsed": false,
    "scrolled": true
   },
   "outputs": [
    {
     "name": "stdout",
     "output_type": "stream",
     "text": [
      "differential_evolution step 1: f(x)= 0.178606\n",
      "differential_evolution step 2: f(x)= 0.178606\n",
      "differential_evolution step 3: f(x)= 0.17535\n",
      "differential_evolution step 4: f(x)= 0.17535\n",
      "differential_evolution step 5: f(x)= 0.17535\n"
     ]
    },
    {
     "data": {
      "text/plain": [
       "array([  3.95942878e+00,   2.40262977e+02,  -3.00000055e-01,\n",
       "         1.82313905e+00,   8.07447193e-01,   3.58194271e-02,\n",
       "         7.41046183e-02,   1.00000000e+00,   1.00000000e+00])"
      ]
     },
     "execution_count": 4,
     "metadata": {},
     "output_type": "execute_result"
    }
   ],
   "source": [
    "calibrate(data)"
   ]
  },
  {
   "cell_type": "code",
   "execution_count": 4,
   "metadata": {
    "collapsed": false
   },
   "outputs": [
    {
     "name": "stdout",
     "output_type": "stream",
     "text": [
      "differential_evolution step 1: f(x)= 0.39603\n",
      "differential_evolution step 2: f(x)= 0.39603\n",
      "differential_evolution step 3: f(x)= 0.371808\n",
      "differential_evolution step 4: f(x)= 0.360193\n",
      "differential_evolution step 5: f(x)= 0.306383\n"
     ]
    },
    {
     "data": {
      "text/plain": [
       "array([  1.42162095e+00,   1.99878780e-01,   2.56654524e+02,\n",
       "         2.63302986e-01,   4.53993848e-02,   8.05797820e-02,\n",
       "         6.43914664e-01,   2.67625928e+00,   8.59815986e-01,\n",
       "         4.67813984e+02,   9.34958026e-01,  -5.88223092e-01,\n",
       "         1.60717951e+00,   8.41218969e-01,   8.65562258e-02,\n",
       "         3.68449293e-02])"
      ]
     },
     "execution_count": 4,
     "metadata": {},
     "output_type": "execute_result"
    }
   ],
   "source": [
    "calibrate(data, 'HBV')"
   ]
  },
  {
   "cell_type": "code",
   "execution_count": 6,
   "metadata": {
    "collapsed": false
   },
   "outputs": [
    {
     "name": "stdout",
     "output_type": "stream",
     "text": [
      "differential_evolution step 1: f(x)= 0.326109\n",
      "differential_evolution step 2: f(x)= 0.29128\n",
      "differential_evolution step 3: f(x)= 0.29128\n",
      "differential_evolution step 4: f(x)= 0.29128\n",
      "differential_evolution step 5: f(x)= 0.29128\n"
     ]
    },
    {
     "data": {
      "text/plain": [
       "array([  5.43173141e+02,   1.00107790e-01,   1.83903799e+02,\n",
       "         3.44666414e+00,   6.90110293e-01,   4.78345871e+00])"
      ]
     },
     "execution_count": 6,
     "metadata": {},
     "output_type": "execute_result"
    }
   ],
   "source": [
    "calibrate(data, 'GR4J-Cema-Neige')"
   ]
  },
  {
   "cell_type": "code",
   "execution_count": 7,
   "metadata": {
    "collapsed": false
   },
   "outputs": [
    {
     "name": "stdout",
     "output_type": "stream",
     "text": [
      "differential_evolution step 1: f(x)= 0.40939\n",
      "differential_evolution step 2: f(x)= 0.287975\n",
      "differential_evolution step 3: f(x)= 0.287975\n",
      "differential_evolution step 4: f(x)= 0.287975\n",
      "differential_evolution step 5: f(x)= 0.287975\n"
     ]
    },
    {
     "data": {
      "text/plain": [
       "array([  1.98586482e+01,   2.99931418e+02,   1.62807039e+00,\n",
       "         7.89643878e+02,   6.67188456e-02,   4.97919324e-01,\n",
       "         5.62709510e-02,   5.08991978e-01,   3.84080597e+00,\n",
       "         1.58011502e-01,   5.79110124e-01,   3.24948487e+00])"
      ]
     },
     "execution_count": 7,
     "metadata": {},
     "output_type": "execute_result"
    }
   ],
   "source": [
    "calibrate(data, 'SIMHYD-Cema-Neige')"
   ]
  },
  {
   "cell_type": "code",
   "execution_count": null,
   "metadata": {
    "collapsed": true
   },
   "outputs": [],
   "source": []
  },
  {
   "cell_type": "code",
   "execution_count": null,
   "metadata": {
    "collapsed": true
   },
   "outputs": [],
   "source": []
  },
  {
   "cell_type": "code",
   "execution_count": null,
   "metadata": {
    "collapsed": true
   },
   "outputs": [],
   "source": []
  },
  {
   "cell_type": "code",
   "execution_count": null,
   "metadata": {
    "collapsed": true
   },
   "outputs": [],
   "source": [
    "import pandas as pd\n",
    "import sys\n",
    "sys.path.append('../tools/')\n",
    "from wfdei_to_lumped_dataframe import dataframe_construction\n",
    "from metrics import NS\n",
    "#import hbv_s"
   ]
  },
  {
   "cell_type": "code",
   "execution_count": null,
   "metadata": {
    "collapsed": true
   },
   "outputs": [],
   "source": [
    "data = dataframe_construction('../data/pur_scheme.csv')\n",
    "#data['Qsim'] = hbv_s.simulation(data, [1, 260, -0.03, 1.3, 0.61, 0.03, 0.08, 1, 1])\n",
    "obs = pd.read_csv('../data/pur_observations.csv', index_col=0, parse_dates=True,\n",
    "                      squeeze=True, header=None, names=['Date', 'Qobs'])\n",
    "data = pd.concat([data, obs], axis=1)\n",
    "#data_for_obs = data.ix[obs.index, ['Qsim', 'Qobs']].dropna()"
   ]
  },
  {
   "cell_type": "code",
   "execution_count": null,
   "metadata": {
    "collapsed": false
   },
   "outputs": [],
   "source": [
    "data = data['1979':]"
   ]
  },
  {
   "cell_type": "raw",
   "metadata": {},
   "source": [
    "NS(data_for_obs['Qobs']['1982':'1985'], data_for_obs['Qsim']['1982':'1985'])"
   ]
  },
  {
   "cell_type": "raw",
   "metadata": {},
   "source": [
    "NS(data['Qobs']['1982':'1985'], data['Qsim']['1982':'1985'])"
   ]
  },
  {
   "cell_type": "code",
   "execution_count": null,
   "metadata": {
    "collapsed": false
   },
   "outputs": [],
   "source": [
    "# now it is a data from gridded pur river\n",
    "calibrate(data)"
   ]
  },
  {
   "cell_type": "code",
   "execution_count": null,
   "metadata": {
    "collapsed": true
   },
   "outputs": [],
   "source": [
    "\"\"\"\n",
    "[  5.14239023e+00,   3.59334992e+02,   2.39564956e+00,\n",
    "         9.05581073e+00,   9.73719068e-01,   5.58885084e-02,\n",
    "         8.07197632e-02,   1.00000000e+00,   1.00000000e+00])\n",
    "\"\"\""
   ]
  },
  {
   "cell_type": "code",
   "execution_count": null,
   "metadata": {
    "collapsed": true
   },
   "outputs": [],
   "source": []
  },
  {
   "cell_type": "code",
   "execution_count": null,
   "metadata": {
    "collapsed": true
   },
   "outputs": [],
   "source": []
  },
  {
   "cell_type": "code",
   "execution_count": null,
   "metadata": {
    "collapsed": true
   },
   "outputs": [],
   "source": []
  },
  {
   "cell_type": "code",
   "execution_count": null,
   "metadata": {
    "collapsed": true
   },
   "outputs": [],
   "source": [
    "# step by step\n",
    "import hbv_s\n",
    "model = hbv_s.simulation\n",
    "bounds = hbv_s.bounds()\n",
    "\n",
    "Qobs = data['Qobs']\n",
    "Qm = Qobs.mean()\n",
    "def obj_func_calc(params):\n",
    "            # simulate hydrograph\n",
    "            Qsim = model(data, params)\n",
    "            # calculate objective function value\n",
    "            return ((Qobs-Qsim)**2).sum()/((Qobs-Qm)**2).sum()\n",
    "\n",
    "optimizer = so.differential_evolution\n",
    "\n",
    "result = optimizer(obj_func_calc, bounds, maxiter=5, disp=True)\n",
    "\n",
    "plt.plot(range(len(data.Qobs)), data.Qobs, 'b', \n",
    "         range(len(data.Qobs)), model(data, result.x), 'r')"
   ]
  },
  {
   "cell_type": "code",
   "execution_count": null,
   "metadata": {
    "collapsed": true
   },
   "outputs": [],
   "source": []
  }
 ],
 "metadata": {
  "kernelspec": {
   "display_name": "Python 3",
   "language": "python",
   "name": "python3"
  },
  "language_info": {
   "codemirror_mode": {
    "name": "ipython",
    "version": 3
   },
   "file_extension": ".py",
   "mimetype": "text/x-python",
   "name": "python",
   "nbconvert_exporter": "python",
   "pygments_lexer": "ipython3",
   "version": "3.5.1"
  }
 },
 "nbformat": 4,
 "nbformat_minor": 0
}
